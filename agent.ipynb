{
  "nbformat": 4,
  "nbformat_minor": 0,
  "metadata": {
    "colab": {
      "name": "agent.ipynb",
      "provenance": [],
      "authorship_tag": "ABX9TyMSE4E1YnxPeI/louBnKDQk",
      "include_colab_link": true
    },
    "kernelspec": {
      "name": "python3",
      "display_name": "Python 3"
    }
  },
  "cells": [
    {
      "cell_type": "markdown",
      "metadata": {
        "id": "view-in-github",
        "colab_type": "text"
      },
      "source": [
        "<a href=\"https://colab.research.google.com/github/groverdharini/Artificial-Intelligence/blob/master/agent.ipynb\" target=\"_parent\"><img src=\"https://colab.research.google.com/assets/colab-badge.svg\" alt=\"Open In Colab\"/></a>"
      ]
    },
    {
      "cell_type": "code",
      "metadata": {
        "colab": {
          "base_uri": "https://localhost:8080/"
        },
        "id": "LYvkSrzRGp5c",
        "outputId": "ece2d752-c2dd-471b-8648-41af8533352a"
      },
      "source": [
        "import random\r\n",
        "\r\n",
        "\r\n",
        "class Environment(object):\r\n",
        "    def __init__(self):\r\n",
        "     \r\n",
        "        self.locationCondition = {'A': '0', 'B': '0'}\r\n",
        "\r\n",
        "       \r\n",
        "        self.locationCondition['A'] = random.randint(0, 1)\r\n",
        "        self.locationCondition['B'] = random.randint(0, 1)\r\n",
        "\r\n",
        "\r\n",
        "class SimpleReflexVacuumAgent(Environment):\r\n",
        "    def __init__(self, Environment):\r\n",
        "        print (Environment.locationCondition)\r\n",
        "     \r\n",
        "        Score = 0\r\n",
        "       \r\n",
        "        vacuumLocation = random.randint(0, 1)\r\n",
        "     \r\n",
        "        if vacuumLocation == 0:\r\n",
        "            print (\"Vacuum is randomly placed at Location A\")\r\n",
        "        \r\n",
        "            if Environment.locationCondition['A'] == 1:\r\n",
        "                print (\"Location A is Dirty. \")\r\n",
        "            \r\n",
        "                Environment.locationCondition['A'] = 0;\r\n",
        "                Score += 1\r\n",
        "                print (\"Location A has been Cleaned.\")\r\n",
        "\r\n",
        "         \r\n",
        "                if Environment.locationCondition['B'] == 1:\r\n",
        "                    print (\"Location B is Dirty.\")\r\n",
        "               \r\n",
        "                    print (\"Moving to Location B.....\")\r\n",
        "                    Score -= 1\r\n",
        "                    \r\n",
        "                    Environment.locationCondition['B'] = 0;\r\n",
        "                    Score += 1\r\n",
        "                    print (\"Location B has been Cleaned \")\r\n",
        "            else:\r\n",
        "\r\n",
        "              \r\n",
        "                if Environment.locationCondition['B'] == 1:\r\n",
        "                    print (\"Location B is Dirty.\")\r\n",
        "                    \r\n",
        "                    Score -= 1\r\n",
        "                    print (\"Moving to Location B...\")\r\n",
        "                   \r\n",
        "                    Environment.locationCondition['B'] = 0;\r\n",
        "                    Score += 1\r\n",
        "                    print (\"Location B has been Cleaned. :D\")\r\n",
        "\r\n",
        "        elif vacuumLocation == 1:\r\n",
        "            print (\"Vacuum is randomly placed at Location B. \")\r\n",
        "            \r\n",
        "            if Environment.locationCondition['B'] == 1:\r\n",
        "                print (\"Location B is Dirty\")\r\n",
        "              \r\n",
        "                Environment.locationCondition['B'] = 0;\r\n",
        "                Score += 1\r\n",
        "                print (\"Location B has been Cleaned\")\r\n",
        "\r\n",
        "              \r\n",
        "                if Environment.locationCondition['A'] == 1:\r\n",
        "                    print (\"Location A is Dirty\")\r\n",
        "                   \r\n",
        "                    Score -= 1\r\n",
        "                    print (\"Moving to Location A\")\r\n",
        "                   \r\n",
        "                    Environment.locationCondition['A'] = 0;\r\n",
        "                    Score += 1\r\n",
        "                    print (\"Location A has been Cleaned\")\r\n",
        "            else:\r\n",
        "\r\n",
        "          \r\n",
        "                if Environment.locationCondition['A'] == 1:\r\n",
        "                    print (\"Location A is Dirty\")\r\n",
        "                    \r\n",
        "                    print (\"Moving to Location A\")\r\n",
        "                    Score -= 1\r\n",
        "                   \r\n",
        "                    Environment.locationCondition['A'] = 0;\r\n",
        "                    Score += 1\r\n",
        "                    print (\"Location A has been Cleaned\")\r\n",
        "        # done cleaning\r\n",
        "        print (Environment.locationCondition)\r\n",
        "        print (\"Performance Measurement: \" + str(Score))\r\n",
        "\r\n",
        "\r\n",
        "theEnvironment = Environment()\r\n",
        "theVacuum = SimpleReflexVacuumAgent(theEnvironment)"
      ],
      "execution_count": null,
      "outputs": [
        {
          "output_type": "stream",
          "text": [
            "{'A': 0, 'B': 1}\n",
            "Vacuum is randomly placed at Location B. \n",
            "Location B is Dirty\n",
            "Location B has been Cleaned\n",
            "{'A': 0, 'B': 0}\n",
            "Performance Measurement: 1\n"
          ],
          "name": "stdout"
        }
      ]
    },
    {
      "cell_type": "code",
      "metadata": {
        "colab": {
          "base_uri": "https://localhost:8080/"
        },
        "id": "VQLuuE4BQyGS",
        "outputId": "87ffcebe-c1cc-4b21-f1ca-3f99fa3122b3"
      },
      "source": [
        "def table_driven_agent(percept):\r\n",
        "    percepts=[]\r\n",
        "    table=[['dirt','suck the dust'],['clean','move']]\r\n",
        "    percepts.append(percept)\r\n",
        "    action = lookup(percept,table)\r\n",
        "    if action == 'move':\r\n",
        "       action = move(percept[1])\r\n",
        "    return(action)\r\n",
        "def lookup(percept,table):\r\n",
        "    for i in table:\r\n",
        "        if i[0] == percept[0]:\r\n",
        "            return(i[1])\r\n",
        "def move(percept):\r\n",
        "    if percept == 'left':\r\n",
        "        return('Go to right')\r\n",
        "    elif percept == 'right':\r\n",
        "        return('Go to left')\r\n",
        "percept = list(map(str,input(\"Enter the status and postion: \").split(',')))\r\n",
        "action = table_driven_agent(percept)\r\n",
        "print(action)\r\n",
        "        \r\n",
        "            "
      ],
      "execution_count": 13,
      "outputs": [
        {
          "output_type": "stream",
          "text": [
            "Enter the status and postion: dirt\n",
            "suck the dust\n"
          ],
          "name": "stdout"
        }
      ]
    }
  ]
}